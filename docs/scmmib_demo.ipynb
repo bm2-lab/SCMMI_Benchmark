{
 "cells": [
  {
   "cell_type": "code",
   "execution_count": 1,
   "metadata": {},
   "outputs": [
    {
     "name": "stderr",
     "output_type": "stream",
     "text": [
      "/home/fusl/miniconda2/envs/scmmib/lib/python3.9/site-packages/datatable/__init__.py:181: DeprecationWarning: Importing display from IPython.core.display is deprecated since IPython 7.14, please import from IPython display\n",
      "  init_styles()\n",
      "/home/fusl/miniconda2/envs/scmmib/lib/python3.9/site-packages/datatable/__init__.py:181: DeprecationWarning: Importing update_display from IPython.core.display is deprecated since IPython 7.14, please import from IPython display\n",
      "  init_styles()\n"
     ]
    },
    {
     "data": {
      "text/html": [
       "<style type='text/css'>\n",
       ".datatable table.frame { margin-bottom: 0; }\n",
       ".datatable table.frame thead { border-bottom: none; }\n",
       ".datatable table.frame tr.coltypes td {  color: #FFFFFF;  line-height: 6px;  padding: 0 0.5em;}\n",
       ".datatable .bool    { background: #DDDD99; }\n",
       ".datatable .object  { background: #565656; }\n",
       ".datatable .int     { background: #5D9E5D; }\n",
       ".datatable .float   { background: #4040CC; }\n",
       ".datatable .str     { background: #CC4040; }\n",
       ".datatable .time    { background: #40CC40; }\n",
       ".datatable .row_index {  background: var(--jp-border-color3);  border-right: 1px solid var(--jp-border-color0);  color: var(--jp-ui-font-color3);  font-size: 9px;}\n",
       ".datatable .frame tbody td { text-align: left; }\n",
       ".datatable .frame tr.coltypes .row_index {  background: var(--jp-border-color0);}\n",
       ".datatable th:nth-child(2) { padding-left: 12px; }\n",
       ".datatable .hellipsis {  color: var(--jp-cell-editor-border-color);}\n",
       ".datatable .vellipsis {  background: var(--jp-layout-color0);  color: var(--jp-cell-editor-border-color);}\n",
       ".datatable .na {  color: var(--jp-cell-editor-border-color);  font-size: 80%;}\n",
       ".datatable .sp {  opacity: 0.25;}\n",
       ".datatable .footer { font-size: 9px; }\n",
       ".datatable .frame_dimensions {  background: var(--jp-border-color3);  border-top: 1px solid var(--jp-border-color0);  color: var(--jp-ui-font-color3);  display: inline-block;  opacity: 0.6;  padding: 1px 10px 1px 5px;}\n",
       "</style>\n"
      ],
      "text/plain": [
       "<IPython.core.display.HTML object>"
      ]
     },
     "metadata": {},
     "output_type": "display_data"
    }
   ],
   "source": [
    "from scmmib.metrics import paired_graph_metrics,  mosaic_latent_metrics,\\\n",
    "    unpaired_latent_metrics\n",
    "import numpy as np\n",
    "import pandas as pd\n",
    "import scanpy as sc\n",
    "import anndata as ad\n",
    "import os"
   ]
  },
  {
   "cell_type": "markdown",
   "metadata": {},
   "source": [
    "#### 1. We first provide a demo for evaluate unpair scRNA and scATAC diagonal integration output.\n"
   ]
  },
  {
   "cell_type": "code",
   "execution_count": 2,
   "metadata": {},
   "outputs": [],
   "source": [
    "def test_unpair():\n",
    "    # 1. load the latent files and metadata files, all demo files are deposited in the github folder\n",
    "    metadata = \"../manuscript_figure_script_and_data/stage2_res/metadata/SHARE_RNA+ATAC_raw_metadata.csv.gz\"\n",
    "    meta = pd.read_csv(metadata, index_col='barcode', header=0, dtype='category')\n",
    "    myfiles = [\"../test/SHARE-multiome-raw-scRNA+scATAC-bindSC-ATAC-latent.csv.gz\",\n",
    "               \"../test/SHARE-multiome-raw-scRNA+scATAC-bindSC-RNA-latent.csv.gz\"]\n",
    "    latent_atac = pd.read_csv(myfiles[0], index_col=0, header=0)\n",
    "    latent_rna = pd.read_csv(myfiles[1], index_col=0, header=0)\n",
    "    latent_atac_reindex=latent_atac.reindex(meta.index)\n",
    "    latent_rna_reindex= latent_rna.reindex(meta.index)\n",
    "    # 2. generate the ann data format and calculate the metrics\n",
    "    adata_unpaired = sc.AnnData(latent_rna_reindex, obs=meta, dtype='float32')\n",
    "    adata_unpaired.obsm['RNA'] = latent_rna_reindex\n",
    "    adata_unpaired.obsm['ATAC'] = latent_atac_reindex\n",
    "    out = unpaired_latent_metrics(adata_unpaired, method = \"bindSC\", cluster = 'louvain', batch = None, label = 'cell_type', mods = [\"RNA\",\"ATAC\"], outf=None, embed_acc=True) # outf=None,return stdout, or return the path or \"outf\" param, for example, outf=\"./test.txt\"\n",
    "    # embed_acc determine wheter calculate the accuracy metrics for each embed in \"mods\" params\n",
    "    return out"
   ]
  },
  {
   "cell_type": "code",
   "execution_count": 3,
   "metadata": {},
   "outputs": [
    {
     "data": {
      "text/html": [
       "<div>\n",
       "<style scoped>\n",
       "    .dataframe tbody tr th:only-of-type {\n",
       "        vertical-align: middle;\n",
       "    }\n",
       "\n",
       "    .dataframe tbody tr th {\n",
       "        vertical-align: top;\n",
       "    }\n",
       "\n",
       "    .dataframe thead th {\n",
       "        text-align: right;\n",
       "    }\n",
       "</style>\n",
       "<table border=\"1\" class=\"dataframe\">\n",
       "  <thead>\n",
       "    <tr style=\"text-align: right;\">\n",
       "      <th></th>\n",
       "      <th>Output</th>\n",
       "      <th>nCell</th>\n",
       "      <th>ARI-RNA</th>\n",
       "      <th>AMI-RNA</th>\n",
       "      <th>graph_cLISI-RNA</th>\n",
       "      <th>ARI-ATAC</th>\n",
       "      <th>AMI-ATAC</th>\n",
       "      <th>graph_cLISI-ATAC</th>\n",
       "      <th>FOSCTTM</th>\n",
       "      <th>nearest_cell_barcode</th>\n",
       "      <th>nearest_cell_barcode-RNA</th>\n",
       "      <th>nearest_cell_barcode-ATAC</th>\n",
       "      <th>nearest_cell_celltype</th>\n",
       "      <th>nearest_cell_celltype-RNA</th>\n",
       "      <th>nearest_cell_celltype-ATAC</th>\n",
       "    </tr>\n",
       "  </thead>\n",
       "  <tbody>\n",
       "    <tr>\n",
       "      <th>bindSC</th>\n",
       "      <td>Embedding</td>\n",
       "      <td>34774.0</td>\n",
       "      <td>0.150792</td>\n",
       "      <td>0.311001</td>\n",
       "      <td>0.909428</td>\n",
       "      <td>0.175393</td>\n",
       "      <td>0.406811</td>\n",
       "      <td>0.948815</td>\n",
       "      <td>0.159328</td>\n",
       "      <td>0.000532</td>\n",
       "      <td>0.000661</td>\n",
       "      <td>0.000403</td>\n",
       "      <td>0.32507</td>\n",
       "      <td>0.281561</td>\n",
       "      <td>0.36858</td>\n",
       "    </tr>\n",
       "  </tbody>\n",
       "</table>\n",
       "</div>"
      ],
      "text/plain": [
       "           Output    nCell   ARI-RNA   AMI-RNA  graph_cLISI-RNA  ARI-ATAC  \\\n",
       "bindSC  Embedding  34774.0  0.150792  0.311001         0.909428  0.175393   \n",
       "\n",
       "        AMI-ATAC  graph_cLISI-ATAC   FOSCTTM  nearest_cell_barcode  \\\n",
       "bindSC  0.406811          0.948815  0.159328              0.000532   \n",
       "\n",
       "        nearest_cell_barcode-RNA  nearest_cell_barcode-ATAC  \\\n",
       "bindSC                  0.000661                   0.000403   \n",
       "\n",
       "        nearest_cell_celltype  nearest_cell_celltype-RNA  \\\n",
       "bindSC                0.32507                   0.281561   \n",
       "\n",
       "        nearest_cell_celltype-ATAC  \n",
       "bindSC                     0.36858  "
      ]
     },
     "execution_count": 3,
     "metadata": {},
     "output_type": "execute_result"
    }
   ],
   "source": [
    "test_unpair()"
   ]
  },
  {
   "cell_type": "code",
   "execution_count": null,
   "metadata": {},
   "outputs": [],
   "source": []
  },
  {
   "cell_type": "markdown",
   "metadata": {},
   "source": [
    "#### 2. Then we provide a demo for method with graph output rather than embedding.\n"
   ]
  },
  {
   "cell_type": "code",
   "execution_count": 8,
   "metadata": {},
   "outputs": [],
   "source": [
    "def test_graph():\n",
    "    # 1. load the graph files and metadata files, all demo files are deposited in the github folde\n",
    "    metadata = \"../manuscript_figure_script_and_data/stage2_res/metadata/BMMC_RNA+ADT_p10_metadata.csv.gz\"\n",
    "    latent = pd.read_csv(\"../test/BMMC-CITE_seq-p10-CITE_seq-SeuratV4-multi-graph.csv.gz\", index_col=0, header=0)\n",
    "    meta = pd.read_csv(metadata, index_col='barcode', header=0, dtype='category')\n",
    "    latent_reordered = latent.reindex(meta.index)\n",
    "    \n",
    "    # 2. generate the ann data format and calculate the metrics\n",
    "    adata = sc.AnnData(latent_reordered, obs=meta, dtype='float32')\n",
    "    method = \"SeuratV4\"\n",
    "    adata.obsp[method] = latent_reordered\n",
    "    out = paired_graph_metrics(adata, method = \"SeuratV4\", cluster = 'louvain', batch = 'batch', label = 'cell_type', outf=None)\n",
    "    return out"
   ]
  },
  {
   "cell_type": "code",
   "execution_count": 9,
   "metadata": {},
   "outputs": [
    {
     "name": "stdout",
     "output_type": "stream",
     "text": [
      "WARNING: You’re trying to run this on 9026 dimensions of `.X`, if you really want this, set `use_rep='X'`.\n",
      "         Falling back to preprocessing with `sc.pp.pca` and default params.\n"
     ]
    },
    {
     "data": {
      "text/html": [
       "<div>\n",
       "<style scoped>\n",
       "    .dataframe tbody tr th:only-of-type {\n",
       "        vertical-align: middle;\n",
       "    }\n",
       "\n",
       "    .dataframe tbody tr th {\n",
       "        vertical-align: top;\n",
       "    }\n",
       "\n",
       "    .dataframe thead th {\n",
       "        text-align: right;\n",
       "    }\n",
       "</style>\n",
       "<table border=\"1\" class=\"dataframe\">\n",
       "  <thead>\n",
       "    <tr style=\"text-align: right;\">\n",
       "      <th></th>\n",
       "      <th>Output</th>\n",
       "      <th>nCell</th>\n",
       "      <th>graph_connectivity</th>\n",
       "      <th>graph_connectivity.l1</th>\n",
       "      <th>graph_iLISI</th>\n",
       "      <th>ARI</th>\n",
       "      <th>ARI.l1</th>\n",
       "      <th>AMI</th>\n",
       "      <th>AMI.l1</th>\n",
       "      <th>graph_cLISI</th>\n",
       "      <th>graph_cLISI.l1</th>\n",
       "    </tr>\n",
       "  </thead>\n",
       "  <tbody>\n",
       "    <tr>\n",
       "      <th>SeuratV4</th>\n",
       "      <td>Graph</td>\n",
       "      <td>9026.0</td>\n",
       "      <td>0.912629</td>\n",
       "      <td>0.959633</td>\n",
       "      <td>0.145544</td>\n",
       "      <td>0.406453</td>\n",
       "      <td>0.379547</td>\n",
       "      <td>0.680174</td>\n",
       "      <td>0.6496</td>\n",
       "      <td>0.987117</td>\n",
       "      <td>0.996</td>\n",
       "    </tr>\n",
       "  </tbody>\n",
       "</table>\n",
       "</div>"
      ],
      "text/plain": [
       "         Output   nCell  graph_connectivity  graph_connectivity.l1  \\\n",
       "SeuratV4  Graph  9026.0            0.912629               0.959633   \n",
       "\n",
       "          graph_iLISI       ARI    ARI.l1       AMI  AMI.l1  graph_cLISI  \\\n",
       "SeuratV4     0.145544  0.406453  0.379547  0.680174  0.6496     0.987117   \n",
       "\n",
       "          graph_cLISI.l1  \n",
       "SeuratV4           0.996  "
      ]
     },
     "execution_count": 9,
     "metadata": {},
     "output_type": "execute_result"
    }
   ],
   "source": [
    "test_graph()"
   ]
  },
  {
   "cell_type": "code",
   "execution_count": null,
   "metadata": {},
   "outputs": [],
   "source": []
  },
  {
   "cell_type": "markdown",
   "metadata": {},
   "source": [
    "### 3. Finally we provide a demo for Seurat v5 bridge mosaic scRNA and ADT integration.\n"
   ]
  },
  {
   "cell_type": "code",
   "execution_count": 40,
   "metadata": {},
   "outputs": [],
   "source": [
    "def test_mosaic():\n",
    "    # 1. load Seurat v5 generated latent embeddings of paired, unpaired RNA and unpaired ADT, as well as metadata\n",
    "    metadata = \"../manuscript_figure_script_and_data/stage2_res/metadata/BMMC_RNA+ADT_s2d1_s3d6_metadata.csv.gz\"\n",
    "\n",
    "    myfiles = [\"../test/BMMC-CITE_seq-s2d1_s3d6-scRNA+ADT-SeuratV5_adt_reduc_latent.csv.gz\",\"../test/BMMC-CITE_seq-s2d1_s3d6-scRNA+ADT-SeuratV5_multi_lap_latent.csv.gz\",\"../test/BMMC-CITE_seq-s2d1_s3d6-scRNA+ADT-SeuratV5_rna_reduc_latent.csv.gz\"]\n",
    "    meta = pd.read_csv(metadata, index_col='barcode', header=0, dtype='category')\n",
    "    paired = \"s3d6\"\n",
    "    unpaired = \"s2d1\"\n",
    "    batch=\"batch\"\n",
    "    # 2. match paired and unpaired cell information in metadata, and input the latents and metadatas for metrics evaluation\n",
    "    # pair_cells = meta[meta[batch] == paired].index\n",
    "    # unpair_cells = meta[meta[batch] == unpaired].index\n",
    "    metadatas = [meta[meta[batch] == paired],meta[meta[batch] == unpaired],meta[meta[batch] == unpaired]]\n",
    "    latent_pair=pd.read_csv(myfiles[1], index_col=0, header=0)\n",
    "    latent_rna = pd.read_csv(myfiles[2], index_col=0, header=0)\n",
    "    latent_mod2 = pd.read_csv(myfiles[0], index_col=0, header=0)\n",
    "    \n",
    "    latents = [latent_pair, latent_rna, latent_mod2]\n",
    "    out = mosaic_latent_metrics(latents=latents,metadatas=metadatas,paired=\"s2d1\", unpaired=\"s3d6\", mod2=\"adt\", batch=\"batch\",label=\"cell_type\",latent_path=myfiles[0], method='SeuratV5', writef=False)\n",
    "    # if writef=True, then two metrics files will be generated in same path of input embeddings.\n",
    "    return out"
   ]
  },
  {
   "cell_type": "code",
   "execution_count": 42,
   "metadata": {},
   "outputs": [
    {
     "name": "stderr",
     "output_type": "stream",
     "text": [
      "/home/fusl/miniconda2/envs/scmmib/lib/python3.9/site-packages/scmmib/metrics.py:271: DeprecationWarning: Keyword argument 'group_key' has been deprecated in favour of 'label_key'. 'group_key' will be removed in a future version.\n",
      "  Batch_ASW = scib.metrics.silhouette_batch(adata, batch_key=batch, group_key=cluster,\n",
      "/home/fusl/miniconda2/envs/scmmib/lib/python3.9/site-packages/scmmib/metrics.py:277: DeprecationWarning: Keyword argument 'group_key' has been deprecated in favour of 'label_key'. 'group_key' will be removed in a future version.\n",
      "  Batch_ASW = scib.metrics.silhouette_batch(adata, batch_key='Site', group_key=cluster,\n"
     ]
    },
    {
     "name": "stdout",
     "output_type": "stream",
     "text": [
      "writing to ./text.txt\n"
     ]
    },
    {
     "name": "stderr",
     "output_type": "stream",
     "text": [
      "/home/fusl/miniconda2/envs/scmmib/lib/python3.9/site-packages/scmmib/metrics.py:271: DeprecationWarning: Keyword argument 'group_key' has been deprecated in favour of 'label_key'. 'group_key' will be removed in a future version.\n",
      "  Batch_ASW = scib.metrics.silhouette_batch(adata, batch_key=batch, group_key=cluster,\n",
      "/home/fusl/miniconda2/envs/scmmib/lib/python3.9/site-packages/scmmib/metrics.py:277: DeprecationWarning: Keyword argument 'group_key' has been deprecated in favour of 'label_key'. 'group_key' will be removed in a future version.\n",
      "  Batch_ASW = scib.metrics.silhouette_batch(adata, batch_key='Site', group_key=cluster,\n"
     ]
    }
   ],
   "source": [
    "mosaic_metrics_all = test_mosaic() \n",
    "# the output contains 3 metrics dataframe, including 1.pair metrics for all cells, 2. unpair metrics for unpair cells, and 3. pair metrics for CITE+RNA."
   ]
  },
  {
   "cell_type": "code",
   "execution_count": 43,
   "metadata": {},
   "outputs": [
    {
     "data": {
      "text/html": [
       "<div>\n",
       "<style scoped>\n",
       "    .dataframe tbody tr th:only-of-type {\n",
       "        vertical-align: middle;\n",
       "    }\n",
       "\n",
       "    .dataframe tbody tr th {\n",
       "        vertical-align: top;\n",
       "    }\n",
       "\n",
       "    .dataframe thead th {\n",
       "        text-align: right;\n",
       "    }\n",
       "</style>\n",
       "<table border=\"1\" class=\"dataframe\">\n",
       "  <thead>\n",
       "    <tr style=\"text-align: right;\">\n",
       "      <th></th>\n",
       "      <th>Output</th>\n",
       "      <th>nCell</th>\n",
       "      <th>FOSCTTM</th>\n",
       "      <th>nearest_cell_barcode</th>\n",
       "      <th>nearest_cell_barcode-RNA</th>\n",
       "      <th>nearest_cell_barcode-ADT</th>\n",
       "      <th>nearest_cell_celltype</th>\n",
       "      <th>nearest_cell_celltype-RNA</th>\n",
       "      <th>nearest_cell_celltype-ADT</th>\n",
       "      <th>nearest_cell_celltype.l1</th>\n",
       "      <th>nearest_cell_celltype.l1-RNA</th>\n",
       "      <th>nearest_cell_celltype.l1-ADT</th>\n",
       "    </tr>\n",
       "  </thead>\n",
       "  <tbody>\n",
       "    <tr>\n",
       "      <th>SeuratV5</th>\n",
       "      <td>Embedding</td>\n",
       "      <td>11035.0</td>\n",
       "      <td>0.0</td>\n",
       "      <td>0.0</td>\n",
       "      <td>0.0</td>\n",
       "      <td>0.0</td>\n",
       "      <td>0.0</td>\n",
       "      <td>0.0</td>\n",
       "      <td>0.0</td>\n",
       "      <td>0.0</td>\n",
       "      <td>0.0</td>\n",
       "      <td>0.0</td>\n",
       "    </tr>\n",
       "  </tbody>\n",
       "</table>\n",
       "</div>"
      ],
      "text/plain": [
       "             Output    nCell  FOSCTTM  nearest_cell_barcode  \\\n",
       "SeuratV5  Embedding  11035.0      0.0                   0.0   \n",
       "\n",
       "          nearest_cell_barcode-RNA  nearest_cell_barcode-ADT  \\\n",
       "SeuratV5                       0.0                       0.0   \n",
       "\n",
       "          nearest_cell_celltype  nearest_cell_celltype-RNA  \\\n",
       "SeuratV5                    0.0                        0.0   \n",
       "\n",
       "          nearest_cell_celltype-ADT  nearest_cell_celltype.l1  \\\n",
       "SeuratV5                        0.0                       0.0   \n",
       "\n",
       "          nearest_cell_celltype.l1-RNA  nearest_cell_celltype.l1-ADT  \n",
       "SeuratV5                           0.0                           0.0  "
      ]
     },
     "execution_count": 43,
     "metadata": {},
     "output_type": "execute_result"
    }
   ],
   "source": [
    "#demo unpair output.\n",
    "mosaic_metrics_all[1]\n"
   ]
  },
  {
   "cell_type": "code",
   "execution_count": null,
   "metadata": {},
   "outputs": [],
   "source": []
  }
 ],
 "metadata": {
  "kernelspec": {
   "display_name": "scmmib",
   "language": "python",
   "name": "python3"
  },
  "language_info": {
   "codemirror_mode": {
    "name": "ipython",
    "version": 3
   },
   "file_extension": ".py",
   "mimetype": "text/x-python",
   "name": "python",
   "nbconvert_exporter": "python",
   "pygments_lexer": "ipython3",
   "version": "3.9.19"
  }
 },
 "nbformat": 4,
 "nbformat_minor": 2
}
