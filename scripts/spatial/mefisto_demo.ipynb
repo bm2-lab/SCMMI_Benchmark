{
 "cells": [
  {
   "cell_type": "code",
   "execution_count": null,
   "id": "20046054",
   "metadata": {
    "vscode": {
     "languageId": "python"
    }
   },
   "outputs": [],
   "source": []
  },
  {
   "cell_type": "markdown",
   "id": "0f86d8ac",
   "metadata": {},
   "source": [
    "#### Demo requirements\n",
    "- code conda env: mefisto_env.yaml\n",
    "- demo runnning time: 5-8 hours depending our your compuation hardware\n",
    "- package version: 1.12.1"
   ]
  },
  {
   "cell_type": "code",
   "execution_count": 1,
   "id": "e1bfaf9c",
   "metadata": {
    "vscode": {
     "languageId": "r"
    }
   },
   "outputs": [],
   "source": [
    "# load your mefisto env python\n",
    "Sys.setenv(RETICULATE_PYTHON = \"/home/shaliu_fu/miniconda3/envs/mefisto_env/bin/python\")\n"
   ]
  },
  {
   "cell_type": "code",
   "execution_count": 3,
   "id": "9fedb2ea",
   "metadata": {
    "vscode": {
     "languageId": "r"
    }
   },
   "outputs": [],
   "source": [
    "\n",
    "ADT_h5ad_path = './lymph_node-CITE_seq-raw-ADT-counts.rds'\n",
    "RNA_h5ad_path = './lymph_node-CITE_seq-raw-RNA-counts.rds'\n",
    "\n",
    "mefisto_embed_path = \"../output/mefisto/\" \n"
   ]
  },
  {
   "cell_type": "code",
   "execution_count": 4,
   "id": "e46c7302",
   "metadata": {
    "vscode": {
     "languageId": "r"
    }
   },
   "outputs": [
    {
     "name": "stderr",
     "output_type": "stream",
     "text": [
      "\n",
      "Attaching package: ‘MOFA2’\n",
      "\n",
      "\n",
      "The following object is masked from ‘package:stats’:\n",
      "\n",
      "    predict\n",
      "\n",
      "\n",
      "── \u001b[1mAttaching core tidyverse packages\u001b[22m ──────────────────────── tidyverse 2.0.0 ──\n",
      "\u001b[32m✔\u001b[39m \u001b[34mdplyr    \u001b[39m 1.1.3     \u001b[32m✔\u001b[39m \u001b[34mreadr    \u001b[39m 2.1.5\n",
      "\u001b[32m✔\u001b[39m \u001b[34mforcats  \u001b[39m 1.0.0     \u001b[32m✔\u001b[39m \u001b[34mstringr  \u001b[39m 1.5.0\n",
      "\u001b[32m✔\u001b[39m \u001b[34mggplot2  \u001b[39m 3.4.4     \u001b[32m✔\u001b[39m \u001b[34mtibble   \u001b[39m 3.2.1\n",
      "\u001b[32m✔\u001b[39m \u001b[34mlubridate\u001b[39m 1.9.3     \u001b[32m✔\u001b[39m \u001b[34mtidyr    \u001b[39m 1.3.0\n",
      "\u001b[32m✔\u001b[39m \u001b[34mpurrr    \u001b[39m 1.0.2     \n",
      "── \u001b[1mConflicts\u001b[22m ────────────────────────────────────────── tidyverse_conflicts() ──\n",
      "\u001b[31m✖\u001b[39m \u001b[34mdplyr\u001b[39m::\u001b[32mfilter()\u001b[39m masks \u001b[34mstats\u001b[39m::filter()\n",
      "\u001b[31m✖\u001b[39m \u001b[34mdplyr\u001b[39m::\u001b[32mlag()\u001b[39m    masks \u001b[34mstats\u001b[39m::lag()\n",
      "\u001b[36mℹ\u001b[39m Use the conflicted package (\u001b[3m\u001b[34m<http://conflicted.r-lib.org/>\u001b[39m\u001b[23m) to force all conflicts to become errors\n",
      "\n",
      "Attaching package: ‘cowplot’\n",
      "\n",
      "\n",
      "The following object is masked from ‘package:lubridate’:\n",
      "\n",
      "    stamp\n",
      "\n",
      "\n",
      "\n",
      "Attaching package: ‘magrittr’\n",
      "\n",
      "\n",
      "The following object is masked from ‘package:purrr’:\n",
      "\n",
      "    set_names\n",
      "\n",
      "\n",
      "The following object is masked from ‘package:tidyr’:\n",
      "\n",
      "    extract\n",
      "\n",
      "\n",
      "\n",
      "Attaching package: ‘data.table’\n",
      "\n",
      "\n",
      "The following objects are masked from ‘package:lubridate’:\n",
      "\n",
      "    hour, isoweek, mday, minute, month, quarter, second, wday, week,\n",
      "    yday, year\n",
      "\n",
      "\n",
      "The following objects are masked from ‘package:dplyr’:\n",
      "\n",
      "    between, first, last\n",
      "\n",
      "\n",
      "The following object is masked from ‘package:purrr’:\n",
      "\n",
      "    transpose\n",
      "\n",
      "\n",
      "\n",
      "Attaching package: ‘Matrix’\n",
      "\n",
      "\n",
      "The following objects are masked from ‘package:tidyr’:\n",
      "\n",
      "    expand, pack, unpack\n",
      "\n",
      "\n",
      "Attaching SeuratObject\n",
      "\n",
      "Seurat v4 was just loaded with SeuratObject v5; disabling v5 assays and\n",
      "validation routines, and ensuring assays work in strict v3/v4\n",
      "compatibility mode\n",
      "\n",
      "Registered S3 method overwritten by 'SeuratDisk':\n",
      "  method            from  \n",
      "  as.sparse.H5Group Seurat\n",
      "\n",
      "here() starts at /NFS_home/NFS_home_5/shaliu_fu/joint_bench/code_review/after_review\n",
      "\n"
     ]
    }
   ],
   "source": [
    "\n",
    "library(MOFA2)\n",
    "library(tidyverse)\n",
    "library(cowplot)\n",
    "library(magrittr)\n",
    "\n",
    "library(dplyr)\n",
    "library(ggplot2)\n",
    "library(data.table)\n",
    "library(Matrix)\n",
    "library(stringr)\n",
    "\n",
    "library(Seurat)\n",
    "library(SeuratDisk)\n",
    "library(here)"
   ]
  },
  {
   "cell_type": "code",
   "execution_count": 5,
   "id": "466006e2",
   "metadata": {
    "vscode": {
     "languageId": "r"
    }
   },
   "outputs": [
    {
     "data": {
      "text/plain": [
       "[1] ‘1.12.1’"
      ]
     },
     "metadata": {},
     "output_type": "display_data"
    }
   ],
   "source": [
    "packageVersion('MOFA2') "
   ]
  },
  {
   "cell_type": "code",
   "execution_count": 7,
   "id": "1d12a4f5",
   "metadata": {
    "vscode": {
     "languageId": "r"
    }
   },
   "outputs": [],
   "source": [
    "rna_counts = readRDS(RNA_h5ad_path)\n",
    "adt_counts = readRDS(ADT_h5ad_path)\n"
   ]
  },
  {
   "cell_type": "code",
   "execution_count": 8,
   "id": "a33704d6",
   "metadata": {
    "vscode": {
     "languageId": "r"
    }
   },
   "outputs": [
    {
     "data": {
      "text/html": [
       "<table class=\"dataframe\">\n",
       "<caption>A data.frame: 6 × 2</caption>\n",
       "<thead>\n",
       "\t<tr><th></th><th scope=col>X</th><th scope=col>Y</th></tr>\n",
       "\t<tr><th></th><th scope=col>&lt;dbl&gt;</th><th scope=col>&lt;dbl&gt;</th></tr>\n",
       "</thead>\n",
       "<tbody>\n",
       "\t<tr><th scope=row>AACACTTGGCAAGGAA-1_1</th><td>47</td><td> 71</td></tr>\n",
       "\t<tr><th scope=row>AACAGGATTCATAGTT-1_1</th><td>49</td><td> 43</td></tr>\n",
       "\t<tr><th scope=row>AACAGGTTATTGCACC-1_1</th><td>28</td><td> 86</td></tr>\n",
       "\t<tr><th scope=row>AACAGGTTCACCGAAG-1_1</th><td>51</td><td> 41</td></tr>\n",
       "\t<tr><th scope=row>AACAGTCAGGCTCCGC-1_1</th><td>24</td><td>  6</td></tr>\n",
       "\t<tr><th scope=row>AACAGTCGTGTCGCGG-1_1</th><td>44</td><td>124</td></tr>\n",
       "</tbody>\n",
       "</table>\n"
      ],
      "text/latex": [
       "A data.frame: 6 × 2\n",
       "\\begin{tabular}{r|ll}\n",
       "  & X & Y\\\\\n",
       "  & <dbl> & <dbl>\\\\\n",
       "\\hline\n",
       "\tAACACTTGGCAAGGAA-1\\_1 & 47 &  71\\\\\n",
       "\tAACAGGATTCATAGTT-1\\_1 & 49 &  43\\\\\n",
       "\tAACAGGTTATTGCACC-1\\_1 & 28 &  86\\\\\n",
       "\tAACAGGTTCACCGAAG-1\\_1 & 51 &  41\\\\\n",
       "\tAACAGTCAGGCTCCGC-1\\_1 & 24 &   6\\\\\n",
       "\tAACAGTCGTGTCGCGG-1\\_1 & 44 & 124\\\\\n",
       "\\end{tabular}\n"
      ],
      "text/markdown": [
       "\n",
       "A data.frame: 6 × 2\n",
       "\n",
       "| <!--/--> | X &lt;dbl&gt; | Y &lt;dbl&gt; |\n",
       "|---|---|---|\n",
       "| AACACTTGGCAAGGAA-1_1 | 47 |  71 |\n",
       "| AACAGGATTCATAGTT-1_1 | 49 |  43 |\n",
       "| AACAGGTTATTGCACC-1_1 | 28 |  86 |\n",
       "| AACAGGTTCACCGAAG-1_1 | 51 |  41 |\n",
       "| AACAGTCAGGCTCCGC-1_1 | 24 |   6 |\n",
       "| AACAGTCGTGTCGCGG-1_1 | 44 | 124 |\n",
       "\n"
      ],
      "text/plain": [
       "                     X  Y  \n",
       "AACACTTGGCAAGGAA-1_1 47  71\n",
       "AACAGGATTCATAGTT-1_1 49  43\n",
       "AACAGGTTATTGCACC-1_1 28  86\n",
       "AACAGGTTCACCGAAG-1_1 51  41\n",
       "AACAGTCAGGCTCCGC-1_1 24   6\n",
       "AACAGTCGTGTCGCGG-1_1 44 124"
      ]
     },
     "metadata": {},
     "output_type": "display_data"
    }
   ],
   "source": [
    "spatial_loc = rna_counts@meta.data[,c(\"X\",\"Y\")]\n",
    "head(spatial_loc)"
   ]
  },
  {
   "cell_type": "code",
   "execution_count": 9,
   "id": "8f95744f",
   "metadata": {
    "vscode": {
     "languageId": "r"
    }
   },
   "outputs": [
    {
     "data": {
      "text/plain": [
       "An object of class Seurat \n",
       "31 features across 6843 samples within 1 assay \n",
       "Active assay: Spatial_ADT (31 features, 0 variable features)\n",
       " 2 layers present: counts, data\n",
       " 1 image present: image"
      ]
     },
     "metadata": {},
     "output_type": "display_data"
    }
   ],
   "source": [
    "adt_counts"
   ]
  },
  {
   "cell_type": "code",
   "execution_count": 10,
   "id": "4faafed9",
   "metadata": {
    "vscode": {
     "languageId": "r"
    }
   },
   "outputs": [],
   "source": [
    "obj.multi <- CreateSeuratObject(counts = rna_counts@assays[['Spatial_RNA']]@counts,meta.data = rna_counts@meta.data)\n",
    "obj.multi[[\"ADT\"]] <- CreateAssayObject(counts = adt_counts@assays[['Spatial_ADT']]@counts ,assay = 'ADT')\n",
    "\n"
   ]
  },
  {
   "cell_type": "code",
   "execution_count": 11,
   "id": "27eb8028",
   "metadata": {
    "vscode": {
     "languageId": "r"
    }
   },
   "outputs": [
    {
     "data": {
      "text/plain": [
       "An object of class Seurat \n",
       "18116 features across 6843 samples within 2 assays \n",
       "Active assay: RNA (18085 features, 0 variable features)\n",
       " 2 layers present: counts, data\n",
       " 1 other assay present: ADT"
      ]
     },
     "metadata": {},
     "output_type": "display_data"
    }
   ],
   "source": [
    "obj.multi"
   ]
  },
  {
   "cell_type": "code",
   "execution_count": 12,
   "id": "e312aac6",
   "metadata": {
    "vscode": {
     "languageId": "r"
    }
   },
   "outputs": [
    {
     "name": "stderr",
     "output_type": "stream",
     "text": [
      "PC_ 1 \n",
      "Positive:  ENSG00000211772, ENSG00000277734, ENSG00000137077, ENSG00000227507, ENSG00000211751, ENSG00000008517, ENSG00000102879, ENSG00000136490, ENSG00000185811, ENSG00000134954 \n",
      "\t   ENSG00000019582, ENSG00000009790, ENSG00000188404, ENSG00000106948, ENSG00000068831, ENSG00000175463, ENSG00000167895, ENSG00000130592, ENSG00000168685, ENSG00000065357 \n",
      "\t   ENSG00000111348, ENSG00000013725, ENSG00000128340, ENSG00000107742, ENSG00000136167, ENSG00000115085, ENSG00000081059, ENSG00000179144, ENSG00000111728, ENSG00000184357 \n",
      "Negative:  ENSG00000170323, ENSG00000169710, ENSG00000123689, ENSG00000166819, ENSG00000175445, ENSG00000211445, ENSG00000148671, ENSG00000148180, ENSG00000135821, ENSG00000181092 \n",
      "\t   ENSG00000184557, ENSG00000189058, ENSG00000197766, ENSG00000167676, ENSG00000167588, ENSG00000138207, ENSG00000135447, ENSG00000026025, ENSG00000079435, ENSG00000005249 \n",
      "\t   ENSG00000198886, ENSG00000128016, ENSG00000211895, ENSG00000108551, ENSG00000004776, ENSG00000132465, ENSG00000135218, ENSG00000177666, ENSG00000160789, ENSG00000198938 \n",
      "PC_ 2 \n",
      "Positive:  ENSG00000211895, ENSG00000170323, ENSG00000169710, ENSG00000123689, ENSG00000166819, ENSG00000175445, ENSG00000137077, ENSG00000181092, ENSG00000211772, ENSG00000148671 \n",
      "\t   ENSG00000277734, ENSG00000211751, ENSG00000167588, ENSG00000227507, ENSG00000167676, ENSG00000135447, ENSG00000008517, ENSG00000138207, ENSG00000079435, ENSG00000102879 \n",
      "\t   ENSG00000125730, ENSG00000148180, ENSG00000005249, ENSG00000013725, ENSG00000211445, ENSG00000120885, ENSG00000111728, ENSG00000196616, ENSG00000107742, ENSG00000009790 \n",
      "Negative:  ENSG00000182566, ENSG00000276409, ENSG00000136011, ENSG00000104938, ENSG00000250722, ENSG00000172889, ENSG00000133800, ENSG00000117707, ENSG00000090659, ENSG00000101439 \n",
      "\t   ENSG00000100600, ENSG00000100234, ENSG00000110841, ENSG00000138722, ENSG00000019169, ENSG00000178695, ENSG00000081041, ENSG00000211899, ENSG00000129538, ENSG00000100767 \n",
      "\t   ENSG00000184113, ENSG00000143878, ENSG00000175745, ENSG00000178573, ENSG00000221869, ENSG00000143333, ENSG00000148175, ENSG00000119681, ENSG00000168497, ENSG00000137726 \n",
      "PC_ 3 \n",
      "Positive:  ENSG00000169710, ENSG00000170323, ENSG00000175445, ENSG00000166819, ENSG00000181092, ENSG00000182566, ENSG00000135821, ENSG00000123689, ENSG00000167676, ENSG00000135447 \n",
      "\t   ENSG00000167588, ENSG00000079435, ENSG00000136011, ENSG00000276409, ENSG00000138207, ENSG00000211445, ENSG00000104938, ENSG00000005249, ENSG00000250722, ENSG00000124253 \n",
      "\t   ENSG00000177666, ENSG00000198938, ENSG00000062282, ENSG00000198886, ENSG00000090659, ENSG00000135218, ENSG00000100600, ENSG00000198712, ENSG00000135917, ENSG00000133800 \n",
      "Negative:  ENSG00000211895, ENSG00000101335, ENSG00000132465, ENSG00000187479, ENSG00000130176, ENSG00000133392, ENSG00000107796, ENSG00000111341, ENSG00000175084, ENSG00000149591 \n",
      "\t   ENSG00000198467, ENSG00000189058, ENSG00000137801, ENSG00000211592, ENSG00000128016, ENSG00000240583, ENSG00000123358, ENSG00000103196, ENSG00000154734, ENSG00000160789 \n",
      "\t   ENSG00000159176, ENSG00000170345, ENSG00000142871, ENSG00000106624, ENSG00000115414, ENSG00000184557, ENSG00000122786, ENSG00000163431, ENSG00000011465, ENSG00000140416 \n",
      "PC_ 4 \n",
      "Positive:  ENSG00000120885, ENSG00000137077, ENSG00000184557, ENSG00000175084, ENSG00000107317, ENSG00000101335, ENSG00000227507, ENSG00000026025, ENSG00000130176, ENSG00000211772 \n",
      "\t   ENSG00000156234, ENSG00000133392, ENSG00000108518, ENSG00000277734, ENSG00000211751, ENSG00000019582, ENSG00000189058, ENSG00000125730, ENSG00000198467, ENSG00000102879 \n",
      "\t   ENSG00000134954, ENSG00000136997, ENSG00000111341, ENSG00000136244, ENSG00000178726, ENSG00000134107, ENSG00000172724, ENSG00000175130, ENSG00000111348, ENSG00000163453 \n",
      "Negative:  ENSG00000211895, ENSG00000211592, ENSG00000211899, ENSG00000211896, ENSG00000211897, ENSG00000211675, ENSG00000132465, ENSG00000239264, ENSG00000100219, ENSG00000170476 \n",
      "\t   ENSG00000170323, ENSG00000159388, ENSG00000051108, ENSG00000166562, ENSG00000107562, ENSG00000115884, ENSG00000099958, ENSG00000135916, ENSG00000183508, ENSG00000178607 \n",
      "\t   ENSG00000180879, ENSG00000152256, ENSG00000169710, ENSG00000175445, ENSG00000211445, ENSG00000115461, ENSG00000091490, ENSG00000166819, ENSG00000134285, ENSG00000184897 \n",
      "PC_ 5 \n",
      "Positive:  ENSG00000142871, ENSG00000137077, ENSG00000149591, ENSG00000137801, ENSG00000168685, ENSG00000107796, ENSG00000115461, ENSG00000172724, ENSG00000179144, ENSG00000277734 \n",
      "\t   ENSG00000008517, ENSG00000211772, ENSG00000140416, ENSG00000065534, ENSG00000127152, ENSG00000081059, ENSG00000116285, ENSG00000077157, ENSG00000138795, ENSG00000188404 \n",
      "\t   ENSG00000112936, ENSG00000166923, ENSG00000013725, ENSG00000115085, ENSG00000211751, ENSG00000211445, ENSG00000163431, ENSG00000182566, ENSG00000126353, ENSG00000196616 \n",
      "Negative:  ENSG00000120885, ENSG00000156234, ENSG00000211899, ENSG00000019582, ENSG00000105369, ENSG00000156738, ENSG00000184357, ENSG00000012124, ENSG00000213999, ENSG00000128886 \n",
      "\t   ENSG00000007312, ENSG00000269404, ENSG00000211592, ENSG00000211897, ENSG00000175130, ENSG00000196092, ENSG00000110777, ENSG00000184557, ENSG00000100721, ENSG00000167483 \n",
      "\t   ENSG00000159958, ENSG00000211898, ENSG00000121966, ENSG00000012223, ENSG00000107317, ENSG00000132704, ENSG00000012779, ENSG00000131378, ENSG00000101160, ENSG00000133063 \n",
      "\n",
      "Warning message:\n",
      "“The default method for RunUMAP has changed from calling Python UMAP via reticulate to the R-native UWOT using the cosine metric\n",
      "To use Python UMAP via reticulate, set umap.method to 'umap-learn' and metric to 'correlation'\n",
      "This message will be shown once per session”\n",
      "10:58:57 UMAP embedding parameters a = 0.9922 b = 1.112\n",
      "\n",
      "Found more than one class \"dist\" in cache; using the first, from namespace 'BiocGenerics'\n",
      "\n",
      "Also defined by ‘spam’\n",
      "\n",
      "10:58:57 Read 6843 rows and found 50 numeric columns\n",
      "\n",
      "10:58:57 Using Annoy for neighbor search, n_neighbors = 30\n",
      "\n",
      "Found more than one class \"dist\" in cache; using the first, from namespace 'BiocGenerics'\n",
      "\n",
      "Also defined by ‘spam’\n",
      "\n",
      "10:58:57 Building Annoy index with metric = cosine, n_trees = 50\n",
      "\n",
      "0%   10   20   30   40   50   60   70   80   90   100%\n",
      "\n",
      "[----|----|----|----|----|----|----|----|----|----|\n",
      "\n",
      "*\n",
      "*\n",
      "*\n",
      "*\n",
      "*\n",
      "*\n",
      "*\n",
      "*\n",
      "*\n",
      "*\n",
      "*\n",
      "*\n",
      "*\n",
      "*\n",
      "*\n",
      "*\n",
      "*\n",
      "*\n",
      "*\n",
      "*\n",
      "*\n",
      "*\n",
      "*\n",
      "*\n",
      "*\n",
      "*\n",
      "*\n",
      "*\n",
      "*\n",
      "*\n",
      "*\n",
      "*\n",
      "*\n",
      "*\n",
      "*\n",
      "*\n",
      "*\n",
      "*\n",
      "*\n",
      "*\n",
      "*\n",
      "*\n",
      "*\n",
      "*\n",
      "*\n",
      "*\n",
      "*\n",
      "*\n",
      "*\n",
      "*\n",
      "|\n",
      "\n",
      "10:58:58 Writing NN index file to temp file /tmp/Rtmp2fmZZx/file3649f7ae5e9c4\n",
      "\n",
      "10:58:58 Searching Annoy index using 1 thread, search_k = 3000\n",
      "\n",
      "10:59:01 Annoy recall = 100%\n",
      "\n",
      "10:59:02 Commencing smooth kNN distance calibration using 1 thread\n",
      " with target n_neighbors = 30\n",
      "\n",
      "10:59:04 Initializing from normalized Laplacian + noise (using irlba)\n",
      "\n",
      "10:59:04 Commencing optimization for 500 epochs, with 334422 positive edges\n",
      "\n",
      "10:59:15 Optimization finished\n",
      "\n"
     ]
    }
   ],
   "source": [
    "DefaultAssay(obj.multi) <- \"RNA\"\n",
    "obj.multi  <- SCTransform(obj.multi , verbose = FALSE) %>% RunPCA() %>% RunUMAP(dims = 1:50, reduction.name = 'umap.rna', reduction.key = 'rnaUMAP_')\n",
    "obj.multi <- FindVariableFeatures(obj.multi, selection.method = \"vst\", nfeatures = 3000) \n"
   ]
  },
  {
   "cell_type": "code",
   "execution_count": 13,
   "id": "584c82b8",
   "metadata": {
    "vscode": {
     "languageId": "r"
    }
   },
   "outputs": [
    {
     "name": "stderr",
     "output_type": "stream",
     "text": [
      "Normalizing across cells\n",
      "\n"
     ]
    },
    {
     "name": "stderr",
     "output_type": "stream",
     "text": [
      "Centering and scaling data matrix\n",
      "\n"
     ]
    }
   ],
   "source": [
    "DefaultAssay(obj.multi) <- \"ADT\"\n",
    "obj.multi <- NormalizeData(obj.multi, normalization.method = 'CLR', margin = 2) %>% ScaleData() \n",
    "obj.multi<- FindVariableFeatures(obj.multi)"
   ]
  },
  {
   "cell_type": "code",
   "execution_count": 32,
   "id": "dade2c7c",
   "metadata": {
    "vscode": {
     "languageId": "r"
    }
   },
   "outputs": [
    {
     "name": "stderr",
     "output_type": "stream",
     "text": [
      "Creating MOFA object from a Seurat object...\n",
      "\n",
      "No features specified, using variable features from the Seurat object...\n",
      "\n"
     ]
    }
   ],
   "source": [
    "mofa <- create_mofa(obj.multi, assays = c(\"SCT\",\"ADT\"))"
   ]
  },
  {
   "cell_type": "code",
   "execution_count": 33,
   "id": "2312799a",
   "metadata": {
    "vscode": {
     "languageId": "r"
    }
   },
   "outputs": [],
   "source": [
    "spatial_loc2 = data.frame(spatial_loc)\n",
    "rownames(spatial_loc2)=colnames(rna_counts)\n",
    "colnames(spatial_loc2)=c(\"coord1\",\"coord2\")"
   ]
  },
  {
   "cell_type": "code",
   "execution_count": 34,
   "id": "c4ca0d24",
   "metadata": {
    "vscode": {
     "languageId": "r"
    }
   },
   "outputs": [],
   "source": [
    "mofa <- set_covariates(mofa, t(spatial_loc2))"
   ]
  },
  {
   "cell_type": "code",
   "execution_count": 35,
   "id": "faaf1aef",
   "metadata": {
    "vscode": {
     "languageId": "r"
    }
   },
   "outputs": [
    {
     "name": "stderr",
     "output_type": "stream",
     "text": [
      "Checking data options...\n",
      "\n",
      "Checking training options...\n",
      "\n",
      "Warning message in prepare_mofa(mofa, model_options = model_opts, mefisto_options = mefisto_opts, :\n",
      "“Maximum number of iterations is very small\n",
      "”\n"
     ]
    },
    {
     "name": "stderr",
     "output_type": "stream",
     "text": [
      "Checking model options...\n",
      "\n",
      "Checking inference options for mefisto covariates...\n",
      "\n"
     ]
    }
   ],
   "source": [
    "data_opts <- get_default_data_options(mofa)\n",
    "\n",
    "model_opts <- get_default_model_options(mofa)\n",
    "model_opts$num_factors <- 4\n",
    "\n",
    "train_opts <- get_default_training_options(mofa)\n",
    "train_opts$maxiter <- 1\n",
    "\n",
    "mefisto_opts <- get_default_mefisto_options(mofa)\n",
    "\n",
    "mofa <- prepare_mofa(mofa, model_options = model_opts,\n",
    "                   mefisto_options = mefisto_opts,\n",
    "                   training_options = train_opts,\n",
    "                   data_options = data_opts)"
   ]
  },
  {
   "cell_type": "code",
   "execution_count": 36,
   "id": "0ee0a806",
   "metadata": {
    "vscode": {
     "languageId": "r"
    }
   },
   "outputs": [
    {
     "name": "stderr",
     "output_type": "stream",
     "text": [
      "Connecting to the mofapy2 python package using reticulate (use_basilisk = FALSE)... \n",
      "    Please make sure to manually specify the right python binary when loading R with reticulate::use_python(..., force=TRUE) or the right conda environment with reticulate::use_condaenv(..., force=TRUE)\n",
      "    If you prefer to let us automatically install a conda environment with 'mofapy2' installed using the 'basilisk' package, please use the argument 'use_basilisk = TRUE'\n",
      "\n",
      "\n"
     ]
    },
    {
     "name": "stderr",
     "output_type": "stream",
     "text": [
      "Warning message in load_model(outfile):\n",
      "“All 4 factors were found to explain little or no variance so remove_inactive_factors option has been disabled.”\n"
     ]
    }
   ],
   "source": [
    "mofa <- run_mofa(mofa,outfile =paste0(mefisto_embed_path,\"/mefisto_model.hdf5\"),use_basilisk = FALSE)\n"
   ]
  },
  {
   "cell_type": "code",
   "execution_count": 19,
   "id": "4fd62986",
   "metadata": {
    "vscode": {
     "languageId": "r"
    }
   },
   "outputs": [
    {
     "name": "stderr",
     "output_type": "stream",
     "text": [
      "Found more than one class \"dist\" in cache; using the first, from namespace 'BiocGenerics'\n",
      "\n",
      "Also defined by ‘spam’\n",
      "\n",
      "Found more than one class \"dist\" in cache; using the first, from namespace 'BiocGenerics'\n",
      "\n",
      "Also defined by ‘spam’\n",
      "\n"
     ]
    }
   ],
   "source": [
    "mofa <-load_model(paste0(mefisto_embed_path,\"/mefisto_model.hdf5\"),remove_inactive_factors = FALSE)\n",
    "factors <- 1:get_dimensions(mofa)[[\"K\"]]\n",
    "\n",
    "mofa <- run_umap(mofa, \n",
    "  factors = factors, \n",
    "  n_neighbors = 15,  \n",
    "  min_dist = 0.30\n",
    ")\n"
   ]
  },
  {
   "cell_type": "code",
   "execution_count": null,
   "id": "80c4b6fc",
   "metadata": {
    "vscode": {
     "languageId": "r"
    }
   },
   "outputs": [],
   "source": [
    "out_tab=mofa@expectations$Z$group1"
   ]
  },
  {
   "cell_type": "code",
   "execution_count": null,
   "id": "94795633",
   "metadata": {
    "vscode": {
     "languageId": "r"
    }
   },
   "outputs": [],
   "source": [
    "write.table(out_tab,file = paste0(mefisto_embed_path,\"/mefisto_latent.csv\",sep=\",\",row.names=T,col.names=T)"
   ]
  },
  {
   "cell_type": "code",
   "execution_count": null,
   "id": "826450c9",
   "metadata": {
    "vscode": {
     "languageId": "r"
    }
   },
   "outputs": [],
   "source": []
  },
  {
   "cell_type": "code",
   "execution_count": null,
   "id": "fed4281d",
   "metadata": {
    "vscode": {
     "languageId": "r"
    }
   },
   "outputs": [],
   "source": []
  }
 ],
 "metadata": {
  "kernelspec": {
   "display_name": "mefisto_r",
   "language": "R",
   "name": "mefisto_r"
  },
  "language_info": {
   "codemirror_mode": "r",
   "file_extension": ".r",
   "mimetype": "text/x-r-source",
   "name": "R",
   "pygments_lexer": "r",
   "version": "4.3.2"
  }
 },
 "nbformat": 4,
 "nbformat_minor": 5
}
