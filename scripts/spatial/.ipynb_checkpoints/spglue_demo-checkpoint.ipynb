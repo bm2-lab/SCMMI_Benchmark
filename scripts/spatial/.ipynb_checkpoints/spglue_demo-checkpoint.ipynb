{
 "cells": [
  {
   "cell_type": "code",
   "execution_count": 1,
   "id": "989a6bd9",
   "metadata": {},
   "outputs": [],
   "source": [
    "%matplotlib inline\n",
    "\n",
    "import os\n",
    "import torch\n",
    "import pandas as pd\n",
    "import scanpy as sc\n",
    "from SpatialGlue import SpatialGlue\n",
    "\n",
    "device = torch.device('cuda:0' if torch.cuda.is_available() else 'cpu')\n",
    "os.environ['R_HOME'] = '/usr/local/src/R-4.0.0'\n",
    "device"
   ]
  },
  {
   "cell_type": "code",
   "execution_count": 2,
   "id": "4fc23315",
   "metadata": {},
   "outputs": [],
   "source": [
    "human_lymphnode_rna = sc.read_h5ad('../../joint_bench/demo_notebook/input/spatial/human_lymph_node/adata_RNA.h5ad')\n",
    "human_lymphnode_adt = sc.read_h5ad('../../joint_bench/demo_notebook/input/spatial/human_lymph_node/adata_ADT.h5ad')\n"
   ]
  },
  {
   "cell_type": "code",
   "execution_count": 23,
   "id": "73897a80",
   "metadata": {},
   "outputs": [
    {
     "name": "stdout",
     "output_type": "stream",
     "text": [
      "(4697, 23622)\n",
      "(4697, 49)\n"
     ]
    }
   ],
   "source": [
    "Mouse_Thymus_rna = sc.read_h5ad('../../joint_bench/demo_notebook/input/spatial/Mouse_Thymus/adata_RNA.h5ad')\n",
    "Mouse_Thymus_adt = sc.read_h5ad('../../joint_bench/demo_notebook/input/spatial/Mouse_Thymus/adata_ADT.h5ad')\n"
   ]
  },
  {
   "cell_type": "code",
   "execution_count": 3,
   "id": "1f8b1cef",
   "metadata": {},
   "outputs": [],
   "source": [
    "Mouse_Spleen_rna = sc.read_h5ad('../../joint_bench/demo_notebook/input/spatial/Mouse_Spleen/adata_RNA.h5ad')\n",
    "Mouse_Spleen_adt = sc.read_h5ad('../../joint_bench/demo_notebook/input/spatial/Mouse_Spleen/adata_Pro.h5ad')\n"
   ]
  },
  {
   "cell_type": "code",
   "execution_count": 27,
   "id": "1d0bbc62",
   "metadata": {},
   "outputs": [
    {
     "name": "stdout",
     "output_type": "stream",
     "text": [
      "(9215, 22914)\n",
      "(9215, 121068)\n"
     ]
    }
   ],
   "source": [
    "Mouse_Brain_rna = sc.read_h5ad('../../joint_bench/demo_notebook/input/spatial/Mouse_Brain/adata_RNA.h5ad')\n",
    "Mouse_Brain_atac = sc.read_h5ad('../../joint_bench/demo_notebook/input/spatial/Mouse_Brain/adata_peaks_normalized.h5ad')\n"
   ]
  },
  {
   "cell_type": "code",
   "execution_count": null,
   "id": "66573af3",
   "metadata": {},
   "outputs": [],
   "source": []
  },
  {
   "cell_type": "code",
   "execution_count": 4,
   "id": "e5e1b20e",
   "metadata": {},
   "outputs": [],
   "source": [
    "file_fold = '../../joint_bench/demo_notebook/input/spatial/human_lymph_node/' \n",
    "output_path = '../../joint_bench/demo_notebook/output/spatialglue/human_lymph_node/'\n",
    "adata_omics1 = sc.read_h5ad(file_fold + 'adata_RNA.h5ad')\n",
    "adata_omics2 = sc.read_h5ad(file_fold + 'adata_ADT.h5ad')\n",
    "\n",
    "adata_omics1.var_names_make_unique()\n",
    "adata_omics2.var_names_make_unique()"
   ]
  },
  {
   "cell_type": "code",
   "execution_count": 36,
   "id": "213043bf",
   "metadata": {},
   "outputs": [],
   "source": [
    "from SpatialGlue.preprocess import preprocessing\n",
    "data = preprocessing(adata_omics1, adata_omics2, datatype='10x')"
   ]
  },
  {
   "cell_type": "code",
   "execution_count": 37,
   "id": "9609deff",
   "metadata": {},
   "outputs": [],
   "source": [
    "import numpy as np\n",
    "adata_omics1.obsm['spatial'] = np.rot90(np.rot90(np.rot90(np.array(adata_omics1.obsm['spatial'])).T).T).T\n",
    "adata_omics1.obsm['spatial'][:,1] = -1*adata_omics1.obsm['spatial'][:,1]"
   ]
  },
  {
   "cell_type": "code",
   "execution_count": 5,
   "id": "a133c761",
   "metadata": {},
   "outputs": [],
   "source": [
    "model = SpatialGlue.SpatialGlue(data, datatype='10x', device=device)\n",
    "# train model\n",
    "output = model.train()"
   ]
  },
  {
   "cell_type": "code",
   "execution_count": 39,
   "id": "02b1d156",
   "metadata": {},
   "outputs": [],
   "source": [
    "adata = adata_omics1.copy()\n",
    "adata.obsm['emb_latent_omics1'] = output['emb_latent_omics1'].copy()\n",
    "adata.obsm['emb_latent_omics2'] = output['emb_latent_omics2'].copy()\n",
    "adata.obsm['SpatialGlue'] = output['SpatialGlue'].copy()\n",
    "adata.obsm['alpha'] = output['alpha']\n",
    "adata.obsm['alpha_omics1'] = output['alpha_omics1']\n",
    "adata.obsm['alpha_omics2'] = output['alpha_omics2']"
   ]
  },
  {
   "cell_type": "code",
   "execution_count": 42,
   "id": "9b644d7c",
   "metadata": {},
   "outputs": [],
   "source": [
    "df = pd.DataFrame(data=adata.obsm['SpatialGlue'],  index=adata.obs.index)\n",
    "df.to_csv(os.path.join(output_path,\"joint_latent.csv\"))"
   ]
  },
  {
   "cell_type": "code",
   "execution_count": null,
   "id": "1ab786ae",
   "metadata": {},
   "outputs": [],
   "source": []
  },
  {
   "cell_type": "code",
   "execution_count": 6,
   "id": "7ecd7fd8",
   "metadata": {},
   "outputs": [],
   "source": [
    "file_fold = '../../joint_bench/demo_notebook/input/spatial/Mouse_Brain/' #please replace 'file_fold' with the download path\n",
    "output_path = '../../joint_bench/demo_notebook/output/spatialglue/Mouse_Brain/'\n",
    "\n",
    "adata_omics1 = sc.read_h5ad(file_fold + 'adata_RNA.h5ad')\n",
    "adata_omics2 = sc.read_h5ad(file_fold + 'adata_peaks_normalized.h5ad')\n",
    "\n",
    "adata_omics1.var_names_make_unique()\n",
    "adata_omics2.var_names_make_unique()\n",
    "\n",
    "from SpatialGlue.preprocess import preprocessing\n",
    "data = preprocessing(adata_omics1, adata_omics2, datatype='Spatial-epigenome-transcriptome')"
   ]
  },
  {
   "cell_type": "code",
   "execution_count": 7,
   "id": "22da6c03",
   "metadata": {},
   "outputs": [],
   "source": [
    "model = SpatialGlue.SpatialGlue(data, datatype='Spatial-epigenome-transcriptome', device=device)\n",
    "\n",
    "# train model\n",
    "output = model.train()\n",
    "\n",
    "adata = adata_omics1.copy()\n",
    "adata.obsm['emb_latent_omics1'] = output['emb_latent_omics1']\n",
    "adata.obsm['emb_latent_omics2'] = output['emb_latent_omics2']\n",
    "adata.obsm['SpatialGlue'] = output['SpatialGlue']\n",
    "adata.obsm['alpha'] = output['alpha']\n",
    "adata.obsm['alpha_omics1'] = output['alpha_omics1']\n",
    "adata.obsm['alpha_omics2'] = output['alpha_omics2']"
   ]
  },
  {
   "cell_type": "code",
   "execution_count": 33,
   "id": "2700369e",
   "metadata": {},
   "outputs": [],
   "source": [
    "df = pd.DataFrame(data=adata.obsm['SpatialGlue'],  index=adata.obs.index)\n",
    "df.to_csv(os.path.join(output_path,\"joint_latent.csv\"))"
   ]
  },
  {
   "cell_type": "code",
   "execution_count": null,
   "id": "7c9722e9",
   "metadata": {},
   "outputs": [],
   "source": []
  }
 ],
 "metadata": {
  "kernelspec": {
   "display_name": "Python 3",
   "language": "python",
   "name": "python3"
  },
  "language_info": {
   "codemirror_mode": {
    "name": "ipython",
    "version": 3
   },
   "file_extension": ".py",
   "mimetype": "text/x-python",
   "name": "python",
   "nbconvert_exporter": "python",
   "pygments_lexer": "ipython3",
   "version": "3.6.9"
  },
  "toc": {
   "base_numbering": 1,
   "nav_menu": {},
   "number_sections": true,
   "sideBar": true,
   "skip_h1_title": false,
   "title_cell": "Table of Contents",
   "title_sidebar": "Contents",
   "toc_cell": false,
   "toc_position": {},
   "toc_section_display": true,
   "toc_window_display": false
  }
 },
 "nbformat": 4,
 "nbformat_minor": 5
}
